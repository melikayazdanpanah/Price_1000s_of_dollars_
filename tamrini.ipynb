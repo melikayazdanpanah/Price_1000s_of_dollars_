{
 "cells": [
  {
   "cell_type": "code",
   "execution_count": 1,
   "metadata": {},
   "outputs": [
    {
     "name": "stderr",
     "output_type": "stream",
     "text": [
      "2024-05-29 08:51:26.711464: I tensorflow/core/platform/cpu_feature_guard.cc:182] This TensorFlow binary is optimized to use available CPU instructions in performance-critical operations.\n",
      "To enable the following instructions: SSE4.1 SSE4.2 AVX AVX2 AVX_VNNI FMA, in other operations, rebuild TensorFlow with the appropriate compiler flags.\n"
     ]
    }
   ],
   "source": [
    "import tensorflow as tf\n",
    "from tensorflow.keras.datasets import mnist\n",
    "from tensorflow.keras.models import Sequential\n",
    "from tensorflow.keras.layers import Dense, Flatten \n",
    "from tensorflow.keras.utils import to_categorical\n",
    "from sklearn.model_selection import train_test_split\n",
    "import matplotlib.pyplot as plt\n",
    "import numpy as np\n",
    "import seaborn as sns \n",
    "from sklearn.metrics import confusion_matrix, accuracy_score"
   ]
  },
  {
   "cell_type": "code",
   "execution_count": 2,
   "metadata": {},
   "outputs": [],
   "source": [
    "import os\n",
    "os.environ['TF_CPP_MIN_LEVEL']='3'\n",
    "#silence errors only"
   ]
  },
  {
   "cell_type": "code",
   "execution_count": 3,
   "metadata": {},
   "outputs": [],
   "source": [
    "(x_train , y_train ), (x_test , y_test)=mnist.load_data()"
   ]
  },
  {
   "cell_type": "code",
   "execution_count": 4,
   "metadata": {},
   "outputs": [],
   "source": [
    "#we want a standard format [0,1] for all pixels // 0-255\n",
    "x_train = x_train.astype('float32') / 255.0\n",
    "x_test = x_test.astype('float32') / 255.0\n",
    "#one-hot encoding // each class to a binary format // here we have 10 classes\n",
    "y_train = to_categorical(y_train, 10)\n",
    "y_test = to_categorical(y_test, 10)"
   ]
  },
  {
   "cell_type": "code",
   "execution_count": 5,
   "metadata": {},
   "outputs": [],
   "source": [
    "# Split training data to training and val\n",
    "x_train, x_val, y_train, y_val = train_test_split(x_train, y_train, test_size=0.2, random_state=42)"
   ]
  },
  {
   "cell_type": "code",
   "execution_count": 6,
   "metadata": {},
   "outputs": [
    {
     "name": "stderr",
     "output_type": "stream",
     "text": [
      "2024-05-29 09:00:52.082348: I tensorflow/core/common_runtime/process_util.cc:146] Creating new thread pool with default inter op setting: 2. Tune using inter_op_parallelism_threads for best performance.\n"
     ]
    }
   ],
   "source": [
    "model = Sequential([\n",
    "    Flatten(input_shape=(28, 28)),\n",
    "    Dense(512, activation='relu'), \n",
    "    Dense(256, activation='relu'),\n",
    "    Dense(10, activation='softmax')\n",
    "])"
   ]
  },
  {
   "cell_type": "code",
   "execution_count": 7,
   "metadata": {},
   "outputs": [],
   "source": [
    "# Compile the model \n",
    "#adam :weights,bias,  loss calculate:with categorical for multi classes metrics for fitness ?/ corrects/ all samples\n",
    "model.compile(optimizer='adam', loss='categorical_crossentropy', metrics=['accuracy'])"
   ]
  },
  {
   "cell_type": "code",
   "execution_count": 8,
   "metadata": {},
   "outputs": [
    {
     "name": "stdout",
     "output_type": "stream",
     "text": [
      "Epoch 1/10\n",
      "1500/1500 - 37s - loss: 0.2053 - accuracy: 0.9384 - val_loss: 0.1089 - val_accuracy: 0.9673 - 37s/epoch - 24ms/step\n",
      "Epoch 2/10\n",
      "1500/1500 - 21s - loss: 0.0849 - accuracy: 0.9738 - val_loss: 0.0920 - val_accuracy: 0.9737 - 21s/epoch - 14ms/step\n",
      "Epoch 3/10\n",
      "1500/1500 - 30s - loss: 0.0591 - accuracy: 0.9807 - val_loss: 0.0886 - val_accuracy: 0.9747 - 30s/epoch - 20ms/step\n",
      "Epoch 4/10\n",
      "1500/1500 - 17s - loss: 0.0448 - accuracy: 0.9859 - val_loss: 0.0830 - val_accuracy: 0.9783 - 17s/epoch - 11ms/step\n",
      "Epoch 5/10\n",
      "1500/1500 - 26s - loss: 0.0353 - accuracy: 0.9881 - val_loss: 0.0840 - val_accuracy: 0.9770 - 26s/epoch - 17ms/step\n",
      "Epoch 6/10\n",
      "1500/1500 - 20s - loss: 0.0295 - accuracy: 0.9902 - val_loss: 0.0959 - val_accuracy: 0.9779 - 20s/epoch - 14ms/step\n",
      "Epoch 7/10\n",
      "1500/1500 - 16s - loss: 0.0262 - accuracy: 0.9916 - val_loss: 0.1011 - val_accuracy: 0.9774 - 16s/epoch - 10ms/step\n",
      "Epoch 8/10\n",
      "1500/1500 - 22s - loss: 0.0210 - accuracy: 0.9934 - val_loss: 0.1146 - val_accuracy: 0.9762 - 22s/epoch - 14ms/step\n",
      "Epoch 9/10\n",
      "1500/1500 - 20s - loss: 0.0193 - accuracy: 0.9939 - val_loss: 0.0995 - val_accuracy: 0.9794 - 20s/epoch - 13ms/step\n",
      "Epoch 10/10\n",
      "1500/1500 - 35s - loss: 0.0203 - accuracy: 0.9934 - val_loss: 0.0937 - val_accuracy: 0.9789 - 35s/epoch - 23ms/step\n"
     ]
    }
   ],
   "source": [
    "# Train the model\n",
    "trained_model = model.fit( x_train, y_train, epochs=10,batch_size=32, verbose=2, validation_data=(x_val, y_val))"
   ]
  },
  {
   "cell_type": "code",
   "execution_count": 11,
   "metadata": {},
   "outputs": [
    {
     "name": "stdout",
     "output_type": "stream",
     "text": [
      "313/313 [==============================] - 3s 10ms/step - loss: 0.0939 - accuracy: 0.9780\n",
      "Test accuracy: 0.9779999852180481\n",
      "test_loss:0.09386945515871048\n",
      "313/313 [==============================] - 2s 5ms/step\n",
      "Per-class accuracy: 978.0\n"
     ]
    },
    {
     "data": {
      "image/png": "[encoded data removed]",
      "text/plain": [
       "<Figure size 1000x800 with 2 Axes>"
      ]
     },
     "metadata": {},
     "output_type": "display_data"
    }
   ],
   "source": [
    "# Evaluate\n",
    "test_loss, test_accuracy = model.evaluate(x_test, y_test)\n",
    "print(f'Test accuracy: {test_accuracy}')\n",
    "print(f'test_loss:{test_loss}')\n",
    "\n",
    "# Predict the labels for the test set\n",
    "y_model = model.predict(x_test)\n",
    "y_model_classes = np.argmax(y_model, axis=1)\n",
    "y_true_classes = np.argmax(y_test, axis=1)\n",
    "\n",
    "# Calculate per-class accuracy\n",
    "per_class_accuracy = accuracy_score(y_true_classes, y_model_classes, normalize=False) / len(np.unique(y_true_classes))\n",
    "print(f'Per-class accuracy: {per_class_accuracy}')\n",
    "\n",
    "# Confusion matrix\n",
    "conf_matrix = confusion_matrix(y_true_classes, y_model_classes)\n",
    "\n",
    "# Plot confusion matrix\n",
    "plt.figure(figsize=(10, 8))\n",
    "sns.heatmap(conf_matrix, annot=True, fmt='d', cmap='Blues')\n",
    "plt.xlabel('Predicted')\n",
    "plt.ylabel('True')\n",
    "plt.title('Confusion Matrix')\n",
    "plt.show()\n"
   ]
  }
 ],
 "metadata": {
  "kernelspec": {
   "display_name": "tf",
   "language": "python",
   "name": "python3"
  },
  "language_info": {
   "codemirror_mode": {
    "name": "ipython",
    "version": 3
   },
   "file_extension": ".py",
   "mimetype": "text/x-python",
   "name": "python",
   "nbconvert_exporter": "python",
   "pygments_lexer": "ipython3",
   "version": "3.11.5"
  }
 },
 "nbformat": 4,
 "nbformat_minor": 2
}
